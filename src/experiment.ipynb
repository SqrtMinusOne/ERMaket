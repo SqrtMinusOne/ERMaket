{
 "cells": [
  {
   "cell_type": "code",
   "execution_count": null,
   "metadata": {},
   "outputs": [],
   "source": [
    "from IPython.display import display\n",
    "from IPython.core.debugger import set_trace\n",
    "import sqlalchemy as sa\n",
    "import logging\n",
    "import logging.config\n",
    "import sys\n",
    "import os\n",
    "\n",
    "from api.database import DBConn\n",
    "from api.models import Models, Seeder, Faker\n",
    "from api import Config\n",
    "\n",
    "config = Config()\n",
    "\n",
    "logging.config.dictConfig(config.Logging)"
   ]
  },
  {
   "cell_type": "code",
   "execution_count": null,
   "metadata": {},
   "outputs": [],
   "source": [
    "DBConn()\n",
    "models = Models()\n",
    "display(models.schemas)"
   ]
  },
  {
   "cell_type": "code",
   "execution_count": null,
   "metadata": {},
   "outputs": [],
   "source": [
    "seeder = Seeder(models)\n",
    "seeder.drop_models()\n",
    "seeder.create_models()\n",
    "\n",
    "faker = Faker(models, verbose=True, fake=True)\n",
    "faker.fake_schema('er1', entries={'Task': 10, 'Subtask': 50, 'UserOnTask': 50}, default_num=10)"
   ]
  },
  {
   "cell_type": "code",
   "execution_count": null,
   "metadata": {},
   "outputs": [],
   "source": [
    "logger = logging.getLogger('sqlalchemy.engine')\n",
    "logger.setLevel(logging.INFO)"
   ]
  },
  {
   "cell_type": "code",
   "execution_count": null,
   "metadata": {},
   "outputs": [],
   "source": [
    "with DBConn.get_session() as session:\n",
    "    q = session.query(models.er1['Task']).first()\n",
    "    display(q)"
   ]
  }
 ],
 "metadata": {
  "kernelspec": {
   "display_name": "Python 3",
   "language": "python",
   "name": "python3"
  },
  "language_info": {
   "codemirror_mode": {
    "name": "ipython",
    "version": 3
   },
   "file_extension": ".py",
   "mimetype": "text/x-python",
   "name": "python",
   "nbconvert_exporter": "python",
   "pygments_lexer": "ipython3",
   "version": "3.7.5"
  }
 },
 "nbformat": 4,
 "nbformat_minor": 4
}
