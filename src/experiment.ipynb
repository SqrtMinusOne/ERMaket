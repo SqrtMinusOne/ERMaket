{
 "cells": [
  {
   "cell_type": "code",
   "execution_count": 12,
   "metadata": {},
   "outputs": [],
   "source": [
    "from IPython.display import display\n",
    "from IPython.core.debugger import set_trace\n",
    "import sqlalchemy as sa\n",
    "\n",
    "from api.database import DBConn\n",
    "from api.models import Models, Seeder, Faker"
   ]
  },
  {
   "cell_type": "code",
   "execution_count": 2,
   "metadata": {},
   "outputs": [
    {
     "data": {
      "text/plain": [
       "{'er1': {'Attachment': models.model_attachment.Attachment,\n",
       "  'User': models.model_user.User,\n",
       "  'Subtask': models.model_subtask.Subtask,\n",
       "  'Task': models.model_task.Task,\n",
       "  'List': models.model_list.List,\n",
       "  'UserOnTask': models.model_user_on_task.UserOnTask,\n",
       "  'Item': models.model_item.Item}}"
      ]
     },
     "metadata": {},
     "output_type": "display_data"
    }
   ],
   "source": [
    "DBConn()\n",
    "models = Models()\n",
    "display(models.schemas)"
   ]
  },
  {
   "cell_type": "code",
   "execution_count": 3,
   "metadata": {},
   "outputs": [
    {
     "name": "stderr",
     "output_type": "stream",
     "text": [
      "100%|██████████| 150/150 [00:02<00:00, 67.91it/s]\n"
     ]
    }
   ],
   "source": [
    "seeder = Seeder(models)\n",
    "seeder.drop_models()\n",
    "seeder.create_models()\n",
    "\n",
    "faker = Faker(models, verbose=True, fake=True)\n",
    "faker.fake_schema('er1', entries={'Task': 10, 'Subtask': 50, 'UserOnTask': 50}, default_num=10)"
   ]
  },
  {
   "cell_type": "code",
   "execution_count": 13,
   "metadata": {},
   "outputs": [
    {
     "name": "stdout",
     "output_type": "stream",
     "text": [
      "SELECT er1.task.name, er1.task.finish_date, er1.task.description, er1.task.list_name \n",
      "FROM er1.task\n"
     ]
    }
   ],
   "source": [
    "with DBConn.get_session() as session:\n",
    "    q = session.query(models.er1['Task'])\n",
    "    "
   ]
  },
  {
   "cell_type": "code",
   "execution_count": null,
   "metadata": {},
   "outputs": [],
   "source": []
  }
 ],
 "metadata": {
  "kernelspec": {
   "display_name": "Python 3",
   "language": "python",
   "name": "python3"
  },
  "language_info": {
   "codemirror_mode": {
    "name": "ipython",
    "version": 3
   },
   "file_extension": ".py",
   "mimetype": "text/x-python",
   "name": "python",
   "nbconvert_exporter": "python",
   "pygments_lexer": "ipython3",
   "version": "3.7.5"
  }
 },
 "nbformat": 4,
 "nbformat_minor": 4
}
