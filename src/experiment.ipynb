{
 "cells": [
  {
   "cell_type": "code",
   "execution_count": 2,
   "metadata": {},
   "outputs": [],
   "source": [
    "from IPython.display import display\n",
    "from IPython.core.debugger import set_trace\n",
    "import sqlalchemy as sa\n",
    "import logging\n",
    "import logging.config\n",
    "import sys\n",
    "import os\n",
    "\n",
    "from api.database import DBConn\n",
    "from api.models import Models, Seeder, Faker\n",
    "from api.queries import QueryBuilder\n",
    "from api import Config"
   ]
  },
  {
   "cell_type": "code",
   "execution_count": 3,
   "metadata": {},
   "outputs": [
    {
     "data": {
      "text/plain": [
       "{'er1': {'Attachment': models.model_attachment.Attachment,\n",
       "  'User': models.model_user.User,\n",
       "  'Subtask': models.model_subtask.Subtask,\n",
       "  'Task': models.model_task.Task,\n",
       "  'List': models.model_list.List,\n",
       "  'UserOnTask': models.model_user_on_task.UserOnTask,\n",
       "  'Item': models.model_item.Item}}"
      ]
     },
     "metadata": {},
     "output_type": "display_data"
    }
   ],
   "source": [
    "config = Config()\n",
    "DBConn()\n",
    "models = Models()\n",
    "display(models.schemas)"
   ]
  },
  {
   "cell_type": "raw",
   "metadata": {},
   "source": [
    "seeder = Seeder(models)\n",
    "seeder.drop_models()\n",
    "seeder.create_models()\n",
    "\n",
    "faker = Faker(models, verbose=True, fake=True)\n",
    "faker.fake_schema('er1', entries={'Task': 10, 'Subtask': 50, 'UserOnTask': 50}, default_num=10)"
   ]
  },
  {
   "cell_type": "code",
   "execution_count": 3,
   "metadata": {},
   "outputs": [],
   "source": [
    "logger = logging.getLogger('sqlalchemy.engine')\n",
    "logger.setLevel(logging.INFO)"
   ]
  },
  {
   "cell_type": "code",
   "execution_count": 6,
   "metadata": {},
   "outputs": [
    {
     "data": {
      "text/plain": [
       "{'name': 'NkJnaZJQemnQDHfRznXK',\n",
       " 'list': 'NPftkbHHmmfYBsynLxRK',\n",
       " 'user_on': [],\n",
       " 'finish_date': '1975-02-17T21:42:13',\n",
       " 'subtask_on': [],\n",
       " 'description': 'Must mission think staff story fine Mr. Power table onto instead black nothing.\\nSpecial some wall partner. You no marriage blue head likely should. Front form with effort represent.',\n",
       " 'attachment_on': []}"
      ]
     },
     "metadata": {},
     "output_type": "display_data"
    }
   ],
   "source": [
    "with DBConn.get_session() as session:\n",
    "    q = session.query(models.er1['Task']).order_by(sa.func.random()).first()\n",
    "    obj = q.__marshmallow__().dump(q)\n",
    "    display(obj)"
   ]
  },
  {
   "cell_type": "code",
   "execution_count": 7,
   "metadata": {},
   "outputs": [
    {
     "data": {
      "text/plain": [
       "[{'name': 'NkJnaZJQemnQDHfRznXK',\n",
       "  'finish_date': datetime.datetime(1975, 2, 17, 21, 42, 13),\n",
       "  'description': 'Must mission think staff story fine Mr. Power table onto instead black nothing.\\nSpecial some wall partner. You no marriage blue head likely should. Front form with effort represent.',\n",
       "  'list_name': 'NPftkbHHmmfYBsynLxRK'}]"
      ]
     },
     "metadata": {},
     "output_type": "display_data"
    }
   ],
   "source": [
    "criterion = {\n",
    "    \"field_name\": \"Task.name\",\n",
    "    \"operator\": \"==\",\n",
    "    \"field_value\": obj[\"name\"]\n",
    "}\n",
    "\n",
    "with DBConn.get_session() as session:\n",
    "    builder = QueryBuilder(session)\n",
    "    r = builder.fetch_data(models.er1['Task'], filter_by=[criterion])\n",
    "    display(r)"
   ]
  },
  {
   "cell_type": "code",
   "execution_count": 8,
   "metadata": {},
   "outputs": [
    {
     "data": {
      "text/plain": [
       "{'name': 'NkJnaZJQemnQDHfRznXK',\n",
       " 'list': 'NPftkbHHmmfYBsynLxRK',\n",
       " 'user_on': [],\n",
       " 'finish_date': '1975-02-17T21:42:13',\n",
       " 'subtask_on': [],\n",
       " 'description': 'Must mission think staff story fine Mr. Power table onto instead black nothing.\\nSpecial some wall partner. You no marriage blue head likely should. Front form with effort represent.',\n",
       " 'attachment_on': []}"
      ]
     },
     "metadata": {},
     "output_type": "display_data"
    }
   ],
   "source": [
    "with DBConn.get_session() as session:\n",
    "    builder = QueryBuilder(session)\n",
    "    r = builder.fetch_one(models.er1['Task'], filter_by=[criterion])\n",
    "    display(r)"
   ]
  },
  {
   "cell_type": "code",
   "execution_count": 17,
   "metadata": {},
   "outputs": [
    {
     "data": {
      "text/plain": [
       "'name'"
      ]
     },
     "execution_count": 17,
     "metadata": {},
     "output_type": "execute_result"
    }
   ],
   "source": [
    "next(iter(models['er1']['Task'].__table__.columns)).name"
   ]
  },
  {
   "cell_type": "code",
   "execution_count": null,
   "metadata": {},
   "outputs": [],
   "source": []
  }
 ],
 "metadata": {
  "kernelspec": {
   "display_name": "Python 3",
   "language": "python",
   "name": "python3"
  },
  "language_info": {
   "codemirror_mode": {
    "name": "ipython",
    "version": 3
   },
   "file_extension": ".py",
   "mimetype": "text/x-python",
   "name": "python",
   "nbconvert_exporter": "python",
   "pygments_lexer": "ipython3",
   "version": "3.7.5"
  }
 },
 "nbformat": 4,
 "nbformat_minor": 4
}
