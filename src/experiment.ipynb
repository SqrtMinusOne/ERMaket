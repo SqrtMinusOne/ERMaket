{
 "cells": [
  {
   "cell_type": "code",
   "execution_count": 1,
   "metadata": {},
   "outputs": [],
   "source": [
    "from IPython.display import display\n",
    "from IPython.core.debugger import set_trace\n",
    "import sqlalchemy as sa\n",
    "import logging\n",
    "import logging.config\n",
    "import sys\n",
    "import os\n",
    "\n",
    "from api.database import DBConn\n",
    "from api.models import Models, Seeder, Faker\n",
    "from api.queries import QueryBuilder\n",
    "from api import Config"
   ]
  },
  {
   "cell_type": "code",
   "execution_count": 2,
   "metadata": {},
   "outputs": [
    {
     "data": {
      "text/plain": [
       "{'er1': {'Item': models.model_item.Item,\n",
       "  'User': models.model_user.User,\n",
       "  'Attachment': models.model_attachment.Attachment,\n",
       "  'Task': models.model_task.Task,\n",
       "  'UserOnTask': models.model_user_on_task.UserOnTask,\n",
       "  'List': models.model_list.List,\n",
       "  'Subtask': models.model_subtask.Subtask}}"
      ]
     },
     "metadata": {},
     "output_type": "display_data"
    }
   ],
   "source": [
    "config = Config()\n",
    "DBConn()\n",
    "models = Models()\n",
    "display(models.schemas)"
   ]
  },
  {
   "cell_type": "raw",
   "metadata": {},
   "source": [
    "seeder = Seeder(models)\n",
    "seeder.drop_models()\n",
    "seeder.create_models()\n",
    "\n",
    "faker = Faker(models, verbose=True, fake=True)\n",
    "faker.fake_schema('er1', entries={'Task': 10, 'Subtask': 50, 'UserOnTask': 50}, default_num=10)"
   ]
  },
  {
   "cell_type": "code",
   "execution_count": 3,
   "metadata": {},
   "outputs": [],
   "source": [
    "logger = logging.getLogger('sqlalchemy.engine')\n",
    "logger.setLevel(logging.INFO)"
   ]
  },
  {
   "cell_type": "code",
   "execution_count": 4,
   "metadata": {},
   "outputs": [
    {
     "name": "stderr",
     "output_type": "stream",
     "text": [
      "INFO:sqlalchemy.engine.base.Engine:select version()\n",
      "INFO:sqlalchemy.engine.base.Engine:{}\n",
      "INFO:sqlalchemy.engine.base.Engine:select current_schema()\n",
      "INFO:sqlalchemy.engine.base.Engine:{}\n",
      "INFO:sqlalchemy.engine.base.Engine:SELECT CAST('test plain returns' AS VARCHAR(60)) AS anon_1\n",
      "INFO:sqlalchemy.engine.base.Engine:{}\n",
      "INFO:sqlalchemy.engine.base.Engine:SELECT CAST('test unicode returns' AS VARCHAR(60)) AS anon_1\n",
      "INFO:sqlalchemy.engine.base.Engine:{}\n",
      "INFO:sqlalchemy.engine.base.Engine:show standard_conforming_strings\n",
      "INFO:sqlalchemy.engine.base.Engine:{}\n",
      "INFO:sqlalchemy.engine.base.Engine:BEGIN (implicit)\n",
      "INFO:sqlalchemy.engine.base.Engine:SELECT er1.task.name AS er1_task_name, er1.task.finish_date AS er1_task_finish_date, er1.task.description AS er1_task_description, er1.task.list_name AS er1_task_list_name \n",
      "FROM er1.task \n",
      " LIMIT %(param_1)s\n",
      "INFO:sqlalchemy.engine.base.Engine:{'param_1': 1}\n",
      "INFO:sqlalchemy.engine.base.Engine:SELECT er1.subtask.id AS er1_subtask_id, er1.subtask.name AS er1_subtask_name, er1.subtask.task_name AS er1_subtask_task_name \n",
      "FROM er1.subtask \n",
      "WHERE %(param_1)s = er1.subtask.task_name\n",
      "INFO:sqlalchemy.engine.base.Engine:{'param_1': 'Patricia Watts'}\n",
      "INFO:sqlalchemy.engine.base.Engine:SELECT er1.user_on_task.user_name AS er1_user_on_task_user_name, er1.user_on_task.task_name AS er1_user_on_task_task_name \n",
      "FROM er1.user_on_task \n",
      "WHERE %(param_1)s = er1.user_on_task.task_name\n",
      "INFO:sqlalchemy.engine.base.Engine:{'param_1': 'Patricia Watts'}\n",
      "INFO:sqlalchemy.engine.base.Engine:SELECT er1.list.name AS er1_list_name \n",
      "FROM er1.list \n",
      "WHERE er1.list.name = %(param_1)s\n",
      "INFO:sqlalchemy.engine.base.Engine:{'param_1': 'Erin Hale'}\n",
      "INFO:sqlalchemy.engine.base.Engine:SELECT er1.attachment.id AS er1_attachment_id, er1.attachment.\"filePath\" AS \"er1_attachment_filePath\", er1.attachment.task_name AS er1_attachment_task_name \n",
      "FROM er1.attachment \n",
      "WHERE %(param_1)s = er1.attachment.task_name\n",
      "INFO:sqlalchemy.engine.base.Engine:{'param_1': 'Patricia Watts'}\n"
     ]
    },
    {
     "data": {
      "text/plain": [
       "{'name': 'Patricia Watts',\n",
       " 'subtask_on': [1, 5, 7, 9, 16, 24, 32, 37, 38, 45],\n",
       " 'finish_date': '2010-09-29T04:32:49',\n",
       " 'user_on': [{'user_name': 'John Baker', 'task_name': 'Patricia Watts'},\n",
       "  {'user_name': 'Sharon Ross', 'task_name': 'Patricia Watts'},\n",
       "  {'user_name': 'Taylor Sanchez', 'task_name': 'Patricia Watts'},\n",
       "  {'user_name': 'David Perez', 'task_name': 'Patricia Watts'}],\n",
       " 'list': 'Erin Hale',\n",
       " 'attachment_on': [1, 10],\n",
       " 'description': 'Memory while decide service. Thus family western fight party bring man. But source could many TV when book under.'}"
      ]
     },
     "metadata": {},
     "output_type": "display_data"
    },
    {
     "name": "stderr",
     "output_type": "stream",
     "text": [
      "INFO:sqlalchemy.engine.base.Engine:ROLLBACK\n"
     ]
    }
   ],
   "source": [
    "with DBConn.get_session() as session:\n",
    "    q = session.query(models.er1['Task']).first()\n",
    "    obj = q.__marshmallow__().dump(q)\n",
    "    display(obj)"
   ]
  },
  {
   "cell_type": "code",
   "execution_count": 8,
   "metadata": {},
   "outputs": [
    {
     "name": "stderr",
     "output_type": "stream",
     "text": [
      "INFO:sqlalchemy.engine.base.Engine:BEGIN (implicit)\n",
      "INFO:sqlalchemy.engine.base.Engine:SELECT er1.task.name, er1.task.finish_date, er1.task.description, er1.task.list_name \n",
      "FROM er1.task \n",
      "WHERE er1.task.name = %(name_1)s\n",
      "INFO:sqlalchemy.engine.base.Engine:{'name_1': 'Patricia Watts'}\n"
     ]
    },
    {
     "data": {
      "text/plain": [
       "[{'name': 'Patricia Watts',\n",
       "  'finish_date': datetime.datetime(2010, 9, 29, 4, 32, 49),\n",
       "  'description': 'Memory while decide service. Thus family western fight party bring man. But source could many TV when book under.',\n",
       "  'list_name': 'Erin Hale'}]"
      ]
     },
     "metadata": {},
     "output_type": "display_data"
    },
    {
     "name": "stderr",
     "output_type": "stream",
     "text": [
      "INFO:sqlalchemy.engine.base.Engine:ROLLBACK\n"
     ]
    }
   ],
   "source": [
    "criterion = {\n",
    "    \"field_name\": \"Task.name\",\n",
    "    \"operator\": \"==\",\n",
    "    \"field_value\": obj[\"name\"]\n",
    "}\n",
    "\n",
    "with DBConn.get_session() as session:\n",
    "    builder = QueryBuilder(session)\n",
    "    r = builder.fetch_data(models.er1['Task'], filter_by=[criterion])\n",
    "    display(r)"
   ]
  },
  {
   "cell_type": "code",
   "execution_count": 6,
   "metadata": {},
   "outputs": [
    {
     "name": "stderr",
     "output_type": "stream",
     "text": [
      "INFO:sqlalchemy.engine.base.Engine:BEGIN (implicit)\n",
      "INFO:sqlalchemy.engine.base.Engine:SELECT er1.task.name AS er1_task_name, er1.task.finish_date AS er1_task_finish_date, er1.task.description AS er1_task_description, er1.task.list_name AS er1_task_list_name \n",
      "FROM er1.task \n",
      "WHERE er1.task.name = %(name_1)s \n",
      " LIMIT %(param_1)s\n",
      "INFO:sqlalchemy.engine.base.Engine:{'name_1': 'Patricia Watts', 'param_1': 1}\n",
      "INFO:sqlalchemy.engine.base.Engine:SELECT er1.subtask.id AS er1_subtask_id, er1.subtask.name AS er1_subtask_name, er1.subtask.task_name AS er1_subtask_task_name \n",
      "FROM er1.subtask \n",
      "WHERE %(param_1)s = er1.subtask.task_name\n",
      "INFO:sqlalchemy.engine.base.Engine:{'param_1': 'Patricia Watts'}\n",
      "INFO:sqlalchemy.engine.base.Engine:SELECT er1.user_on_task.user_name AS er1_user_on_task_user_name, er1.user_on_task.task_name AS er1_user_on_task_task_name \n",
      "FROM er1.user_on_task \n",
      "WHERE %(param_1)s = er1.user_on_task.task_name\n",
      "INFO:sqlalchemy.engine.base.Engine:{'param_1': 'Patricia Watts'}\n",
      "INFO:sqlalchemy.engine.base.Engine:SELECT er1.list.name AS er1_list_name \n",
      "FROM er1.list \n",
      "WHERE er1.list.name = %(param_1)s\n",
      "INFO:sqlalchemy.engine.base.Engine:{'param_1': 'Erin Hale'}\n",
      "INFO:sqlalchemy.engine.base.Engine:SELECT er1.attachment.id AS er1_attachment_id, er1.attachment.\"filePath\" AS \"er1_attachment_filePath\", er1.attachment.task_name AS er1_attachment_task_name \n",
      "FROM er1.attachment \n",
      "WHERE %(param_1)s = er1.attachment.task_name\n",
      "INFO:sqlalchemy.engine.base.Engine:{'param_1': 'Patricia Watts'}\n"
     ]
    },
    {
     "data": {
      "text/plain": [
       "{'name': 'Patricia Watts',\n",
       " 'subtask_on': [1, 5, 7, 9, 16, 24, 32, 37, 38, 45],\n",
       " 'finish_date': '2010-09-29T04:32:49',\n",
       " 'user_on': [{'user_name': 'John Baker', 'task_name': 'Patricia Watts'},\n",
       "  {'user_name': 'Sharon Ross', 'task_name': 'Patricia Watts'},\n",
       "  {'user_name': 'Taylor Sanchez', 'task_name': 'Patricia Watts'},\n",
       "  {'user_name': 'David Perez', 'task_name': 'Patricia Watts'}],\n",
       " 'list': 'Erin Hale',\n",
       " 'attachment_on': [1, 10],\n",
       " 'description': 'Memory while decide service. Thus family western fight party bring man. But source could many TV when book under.'}"
      ]
     },
     "metadata": {},
     "output_type": "display_data"
    },
    {
     "name": "stderr",
     "output_type": "stream",
     "text": [
      "INFO:sqlalchemy.engine.base.Engine:ROLLBACK\n"
     ]
    }
   ],
   "source": [
    "with DBConn.get_session() as session:\n",
    "    builder = QueryBuilder(session)\n",
    "    r = builder.fetch_one(models.er1['Task'], filter_by=[criterion])\n",
    "    display(r)"
   ]
  },
  {
   "cell_type": "code",
   "execution_count": 17,
   "metadata": {},
   "outputs": [
    {
     "data": {
      "text/plain": [
       "'name'"
      ]
     },
     "execution_count": 17,
     "metadata": {},
     "output_type": "execute_result"
    }
   ],
   "source": [
    "next(iter(models['er1']['Task'].__table__.columns)).name"
   ]
  },
  {
   "cell_type": "code",
   "execution_count": null,
   "metadata": {},
   "outputs": [],
   "source": []
  }
 ],
 "metadata": {
  "kernelspec": {
   "display_name": "Python 3",
   "language": "python",
   "name": "python3"
  },
  "language_info": {
   "codemirror_mode": {
    "name": "ipython",
    "version": 3
   },
   "file_extension": ".py",
   "mimetype": "text/x-python",
   "name": "python",
   "nbconvert_exporter": "python",
   "pygments_lexer": "ipython3",
   "version": "3.7.5"
  }
 },
 "nbformat": 4,
 "nbformat_minor": 4
}
